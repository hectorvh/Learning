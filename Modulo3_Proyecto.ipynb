{
  "metadata": {
    "kernelspec": {
      "language": "python",
      "display_name": "Python 3",
      "name": "python3"
    },
    "language_info": {
      "name": "python",
      "version": "3.10.14",
      "mimetype": "text/x-python",
      "codemirror_mode": {
        "name": "ipython",
        "version": 3
      },
      "pygments_lexer": "ipython3",
      "nbconvert_exporter": "python",
      "file_extension": ".py"
    },
    "kaggle": {
      "accelerator": "none",
      "dataSources": [
        {
          "sourceId": 9862380,
          "sourceType": "datasetVersion",
          "datasetId": 6053092
        }
      ],
      "dockerImageVersionId": 30786,
      "isInternetEnabled": true,
      "language": "python",
      "sourceType": "notebook",
      "isGpuEnabled": false
    },
    "colab": {
      "provenance": [],
      "name": "Modulo3_Proyecto.ipynb",
      "include_colab_link": true
    }
  },
  "nbformat_minor": 0,
  "nbformat": 4,
  "cells": [
    {
      "cell_type": "markdown",
      "metadata": {
        "id": "view-in-github",
        "colab_type": "text"
      },
      "source": [
        "<a href=\"https://colab.research.google.com/github/hectorvh/Learning/blob/main/Modulo3_Proyecto.ipynb\" target=\"_parent\"><img src=\"https://colab.research.google.com/assets/colab-badge.svg\" alt=\"Open In Colab\"/></a>"
      ]
    },
    {
      "source": [
        "# IMPORTANT: RUN THIS CELL IN ORDER TO IMPORT YOUR KAGGLE DATA SOURCES,\n",
        "# THEN FEEL FREE TO DELETE THIS CELL.\n",
        "# NOTE: THIS NOTEBOOK ENVIRONMENT DIFFERS FROM KAGGLE'S PYTHON\n",
        "# ENVIRONMENT SO THERE MAY BE MISSING LIBRARIES USED BY YOUR\n",
        "# NOTEBOOK.\n",
        "import kagglehub\n",
        "julihocc_customers_path = kagglehub.dataset_download('julihocc/customers')\n",
        "\n",
        "print('Data source import complete.')\n"
      ],
      "metadata": {
        "id": "zRxzaAeJYE1j"
      },
      "cell_type": "code",
      "outputs": [],
      "execution_count": null
    },
    {
      "cell_type": "code",
      "source": [
        "import pandas as pd\n",
        "import seaborn as sns\n",
        "import matplotlib.pyplot as plt\n",
        "import numpy as np\n",
        "from sklearn.preprocessing import StandardScaler\n",
        "from sklearn.model_selection import train_test_split\n",
        "\n",
        "from sklearn.linear_model import LogisticRegression\n",
        "from sklearn.metrics import accuracy_score\n",
        "\n",
        "from sklearn.tree import DecisionTreeClassifier\n",
        "clf = DecisionTreeClassifier(random_state=0)\n",
        "\n",
        "from sklearn.ensemble import RandomForestClassifier\n",
        "#X, y = make_classification(n_samples=1000, n_features=4,\n",
        "#                           n_informative=2, n_redundant=0,\n",
        "#                           random_state=0, shuffle=False)\n",
        "clf = RandomForestClassifier(max_depth=2, random_state=0)\n",
        "\n",
        "from sklearn.metrics import mean_absolute_error, mean_squared_error, r2_score\n",
        "from sklearn.metrics import accuracy_score\n",
        "from sklearn.metrics import precision_score\n",
        "from sklearn.metrics import recall_score\n",
        "from sklearn.metrics import f1_score\n",
        "from sklearn.metrics import roc_auc_score\n",
        "\n",
        "from sklearn.model_selection import GridSearchCV"
      ],
      "metadata": {
        "_uuid": "8f2839f25d086af736a60e9eeb907d3b93b6e0e5",
        "_cell_guid": "b1076dfc-b9ad-4769-8c92-a6c4dae69d19",
        "trusted": true,
        "execution": {
          "iopub.status.busy": "2024-11-16T09:43:04.71501Z",
          "iopub.execute_input": "2024-11-16T09:43:04.715909Z",
          "iopub.status.idle": "2024-11-16T09:43:04.730396Z",
          "shell.execute_reply.started": "2024-11-16T09:43:04.715829Z",
          "shell.execute_reply": "2024-11-16T09:43:04.729058Z"
        },
        "id": "g-wxETJSYE1m"
      },
      "outputs": [],
      "execution_count": null
    },
    {
      "cell_type": "code",
      "source": [
        "train_data = pd.read_csv(\"/kaggle/input/customers/synthetic_customer_data.csv\")\n",
        "\n",
        "train_data"
      ],
      "metadata": {
        "trusted": true,
        "execution": {
          "iopub.status.busy": "2024-11-16T09:08:09.908873Z",
          "iopub.execute_input": "2024-11-16T09:08:09.909338Z",
          "iopub.status.idle": "2024-11-16T09:08:09.946872Z",
          "shell.execute_reply.started": "2024-11-16T09:08:09.909293Z",
          "shell.execute_reply": "2024-11-16T09:08:09.945468Z"
        },
        "id": "g5wNb7UTYE1m",
        "outputId": "476d2476-c926-40e5-bd4b-96a09bc598c4"
      },
      "outputs": [
        {
          "execution_count": 48,
          "output_type": "execute_result",
          "data": {
            "text/plain": "    customer_id  age  gender  total_spent  frequency  \\\n0             1   25    Male       200.50          5   \n1             2   34  Female       120.75          2   \n2             3   28    Male       315.00          6   \n3             4   45  Female       150.00          3   \n4             5   42    Male       175.50          4   \n..          ...  ...     ...          ...        ...   \n95           96   33  Female       240.00          5   \n96           97   31    Male       305.00          7   \n97           98   40  Female       215.25          4   \n98           99   36    Male       185.50          3   \n99          100   29  Female       225.00          6   \n\n    days_since_last_purchase  marketing_engaged  returned_next_month  \n0                         12                  1                    1  \n1                         30                  0                    0  \n2                          5                  1                    1  \n3                         15                  1                    0  \n4                         25                  0                    0  \n..                       ...                ...                  ...  \n95                         7                  1                    1  \n96                         9                  1                    1  \n97                        14                  0                    0  \n98                        20                  1                    0  \n99                        10                  0                    1  \n\n[100 rows x 8 columns]",
            "text/html": "<div>\n<style scoped>\n    .dataframe tbody tr th:only-of-type {\n        vertical-align: middle;\n    }\n\n    .dataframe tbody tr th {\n        vertical-align: top;\n    }\n\n    .dataframe thead th {\n        text-align: right;\n    }\n</style>\n<table border=\"1\" class=\"dataframe\">\n  <thead>\n    <tr style=\"text-align: right;\">\n      <th></th>\n      <th>customer_id</th>\n      <th>age</th>\n      <th>gender</th>\n      <th>total_spent</th>\n      <th>frequency</th>\n      <th>days_since_last_purchase</th>\n      <th>marketing_engaged</th>\n      <th>returned_next_month</th>\n    </tr>\n  </thead>\n  <tbody>\n    <tr>\n      <th>0</th>\n      <td>1</td>\n      <td>25</td>\n      <td>Male</td>\n      <td>200.50</td>\n      <td>5</td>\n      <td>12</td>\n      <td>1</td>\n      <td>1</td>\n    </tr>\n    <tr>\n      <th>1</th>\n      <td>2</td>\n      <td>34</td>\n      <td>Female</td>\n      <td>120.75</td>\n      <td>2</td>\n      <td>30</td>\n      <td>0</td>\n      <td>0</td>\n    </tr>\n    <tr>\n      <th>2</th>\n      <td>3</td>\n      <td>28</td>\n      <td>Male</td>\n      <td>315.00</td>\n      <td>6</td>\n      <td>5</td>\n      <td>1</td>\n      <td>1</td>\n    </tr>\n    <tr>\n      <th>3</th>\n      <td>4</td>\n      <td>45</td>\n      <td>Female</td>\n      <td>150.00</td>\n      <td>3</td>\n      <td>15</td>\n      <td>1</td>\n      <td>0</td>\n    </tr>\n    <tr>\n      <th>4</th>\n      <td>5</td>\n      <td>42</td>\n      <td>Male</td>\n      <td>175.50</td>\n      <td>4</td>\n      <td>25</td>\n      <td>0</td>\n      <td>0</td>\n    </tr>\n    <tr>\n      <th>...</th>\n      <td>...</td>\n      <td>...</td>\n      <td>...</td>\n      <td>...</td>\n      <td>...</td>\n      <td>...</td>\n      <td>...</td>\n      <td>...</td>\n    </tr>\n    <tr>\n      <th>95</th>\n      <td>96</td>\n      <td>33</td>\n      <td>Female</td>\n      <td>240.00</td>\n      <td>5</td>\n      <td>7</td>\n      <td>1</td>\n      <td>1</td>\n    </tr>\n    <tr>\n      <th>96</th>\n      <td>97</td>\n      <td>31</td>\n      <td>Male</td>\n      <td>305.00</td>\n      <td>7</td>\n      <td>9</td>\n      <td>1</td>\n      <td>1</td>\n    </tr>\n    <tr>\n      <th>97</th>\n      <td>98</td>\n      <td>40</td>\n      <td>Female</td>\n      <td>215.25</td>\n      <td>4</td>\n      <td>14</td>\n      <td>0</td>\n      <td>0</td>\n    </tr>\n    <tr>\n      <th>98</th>\n      <td>99</td>\n      <td>36</td>\n      <td>Male</td>\n      <td>185.50</td>\n      <td>3</td>\n      <td>20</td>\n      <td>1</td>\n      <td>0</td>\n    </tr>\n    <tr>\n      <th>99</th>\n      <td>100</td>\n      <td>29</td>\n      <td>Female</td>\n      <td>225.00</td>\n      <td>6</td>\n      <td>10</td>\n      <td>0</td>\n      <td>1</td>\n    </tr>\n  </tbody>\n</table>\n<p>100 rows × 8 columns</p>\n</div>"
          },
          "metadata": {}
        }
      ],
      "execution_count": null
    },
    {
      "cell_type": "code",
      "source": [
        "train_data.info()"
      ],
      "metadata": {
        "trusted": true,
        "execution": {
          "iopub.status.busy": "2024-11-16T09:08:09.949452Z",
          "iopub.execute_input": "2024-11-16T09:08:09.949931Z",
          "iopub.status.idle": "2024-11-16T09:08:09.966038Z",
          "shell.execute_reply.started": "2024-11-16T09:08:09.949887Z",
          "shell.execute_reply": "2024-11-16T09:08:09.964429Z"
        },
        "id": "aAF060B0YE1n",
        "outputId": "5e5940b3-8cf1-47db-8891-d50e6a9fa749"
      },
      "outputs": [
        {
          "name": "stdout",
          "text": "<class 'pandas.core.frame.DataFrame'>\nRangeIndex: 100 entries, 0 to 99\nData columns (total 8 columns):\n #   Column                    Non-Null Count  Dtype  \n---  ------                    --------------  -----  \n 0   customer_id               100 non-null    int64  \n 1   age                       100 non-null    int64  \n 2   gender                    100 non-null    object \n 3   total_spent               100 non-null    float64\n 4   frequency                 100 non-null    int64  \n 5   days_since_last_purchase  100 non-null    int64  \n 6   marketing_engaged         100 non-null    int64  \n 7   returned_next_month       100 non-null    int64  \ndtypes: float64(1), int64(6), object(1)\nmemory usage: 6.4+ KB\n",
          "output_type": "stream"
        }
      ],
      "execution_count": null
    },
    {
      "cell_type": "code",
      "source": [
        "train_data.describe()"
      ],
      "metadata": {
        "trusted": true,
        "execution": {
          "iopub.status.busy": "2024-11-16T09:08:09.968031Z",
          "iopub.execute_input": "2024-11-16T09:08:09.968554Z",
          "iopub.status.idle": "2024-11-16T09:08:10.010476Z",
          "shell.execute_reply.started": "2024-11-16T09:08:09.968496Z",
          "shell.execute_reply": "2024-11-16T09:08:10.009009Z"
        },
        "id": "F4iRyXY1YE1n",
        "outputId": "6c72a5a9-39a4-4a62-e848-0cdb1bb46249"
      },
      "outputs": [
        {
          "execution_count": 50,
          "output_type": "execute_result",
          "data": {
            "text/plain": "       customer_id         age  total_spent   frequency  \\\ncount   100.000000  100.000000   100.000000  100.000000   \nmean     50.500000   34.300000   213.250000    4.500000   \nstd      29.011492    6.163595    59.069596    1.507557   \nmin       1.000000   25.000000   120.750000    2.000000   \n25%      25.750000   29.000000   175.500000    3.000000   \n50%      50.500000   33.500000   207.875000    4.500000   \n75%      75.250000   40.000000   240.000000    6.000000   \nmax     100.000000   45.000000   315.000000    7.000000   \n\n       days_since_last_purchase  marketing_engaged  returned_next_month  \ncount                100.000000         100.000000           100.000000  \nmean                  14.700000           0.600000             0.500000  \nstd                    7.681146           0.492366             0.502519  \nmin                    5.000000           0.000000             0.000000  \n25%                    9.000000           0.000000             0.000000  \n50%                   13.000000           1.000000             0.500000  \n75%                   20.000000           1.000000             1.000000  \nmax                   30.000000           1.000000             1.000000  ",
            "text/html": "<div>\n<style scoped>\n    .dataframe tbody tr th:only-of-type {\n        vertical-align: middle;\n    }\n\n    .dataframe tbody tr th {\n        vertical-align: top;\n    }\n\n    .dataframe thead th {\n        text-align: right;\n    }\n</style>\n<table border=\"1\" class=\"dataframe\">\n  <thead>\n    <tr style=\"text-align: right;\">\n      <th></th>\n      <th>customer_id</th>\n      <th>age</th>\n      <th>total_spent</th>\n      <th>frequency</th>\n      <th>days_since_last_purchase</th>\n      <th>marketing_engaged</th>\n      <th>returned_next_month</th>\n    </tr>\n  </thead>\n  <tbody>\n    <tr>\n      <th>count</th>\n      <td>100.000000</td>\n      <td>100.000000</td>\n      <td>100.000000</td>\n      <td>100.000000</td>\n      <td>100.000000</td>\n      <td>100.000000</td>\n      <td>100.000000</td>\n    </tr>\n    <tr>\n      <th>mean</th>\n      <td>50.500000</td>\n      <td>34.300000</td>\n      <td>213.250000</td>\n      <td>4.500000</td>\n      <td>14.700000</td>\n      <td>0.600000</td>\n      <td>0.500000</td>\n    </tr>\n    <tr>\n      <th>std</th>\n      <td>29.011492</td>\n      <td>6.163595</td>\n      <td>59.069596</td>\n      <td>1.507557</td>\n      <td>7.681146</td>\n      <td>0.492366</td>\n      <td>0.502519</td>\n    </tr>\n    <tr>\n      <th>min</th>\n      <td>1.000000</td>\n      <td>25.000000</td>\n      <td>120.750000</td>\n      <td>2.000000</td>\n      <td>5.000000</td>\n      <td>0.000000</td>\n      <td>0.000000</td>\n    </tr>\n    <tr>\n      <th>25%</th>\n      <td>25.750000</td>\n      <td>29.000000</td>\n      <td>175.500000</td>\n      <td>3.000000</td>\n      <td>9.000000</td>\n      <td>0.000000</td>\n      <td>0.000000</td>\n    </tr>\n    <tr>\n      <th>50%</th>\n      <td>50.500000</td>\n      <td>33.500000</td>\n      <td>207.875000</td>\n      <td>4.500000</td>\n      <td>13.000000</td>\n      <td>1.000000</td>\n      <td>0.500000</td>\n    </tr>\n    <tr>\n      <th>75%</th>\n      <td>75.250000</td>\n      <td>40.000000</td>\n      <td>240.000000</td>\n      <td>6.000000</td>\n      <td>20.000000</td>\n      <td>1.000000</td>\n      <td>1.000000</td>\n    </tr>\n    <tr>\n      <th>max</th>\n      <td>100.000000</td>\n      <td>45.000000</td>\n      <td>315.000000</td>\n      <td>7.000000</td>\n      <td>30.000000</td>\n      <td>1.000000</td>\n      <td>1.000000</td>\n    </tr>\n  </tbody>\n</table>\n</div>"
          },
          "metadata": {}
        }
      ],
      "execution_count": null
    },
    {
      "cell_type": "code",
      "source": [
        "plt.subplot(1, 2, 1)\n",
        "plt.hist(train_data['age'], edgecolor='black')\n",
        "plt.title('Distribución de Edad')\n",
        "plt.xlabel('Edad')\n",
        "plt.ylabel('Frecuencia')\n",
        "plt.subplot(1, 2, 2)\n",
        "plt.hist(train_data['total_spent'], edgecolor='black')\n",
        "plt.title('Distribución de Gasto')\n",
        "plt.xlabel('Gasto Total')\n",
        "plt.ylabel('Frecuencia')"
      ],
      "metadata": {
        "trusted": true,
        "execution": {
          "iopub.status.busy": "2024-11-16T09:08:10.014378Z",
          "iopub.execute_input": "2024-11-16T09:08:10.015263Z",
          "iopub.status.idle": "2024-11-16T09:08:10.609989Z",
          "shell.execute_reply.started": "2024-11-16T09:08:10.015198Z",
          "shell.execute_reply": "2024-11-16T09:08:10.608618Z"
        },
        "id": "cYf3DgqaYE1o",
        "outputId": "0cbca9e9-7ae2-4b5f-d923-eec3bec45f23"
      },
      "outputs": [
        {
          "execution_count": 51,
          "output_type": "execute_result",
          "data": {
            "text/plain": "Text(0, 0.5, 'Frecuencia')"
          },
          "metadata": {}
        },
        {
          "output_type": "display_data",
          "data": {
            "text/plain": "<Figure size 640x480 with 2 Axes>",
            "image/png": "[encoded data removed]"
          },
          "metadata": {}
        }
      ],
      "execution_count": null
    },
    {
      "cell_type": "code",
      "source": [
        "sns.countplot(data=train_data, x='gender')"
      ],
      "metadata": {
        "trusted": true,
        "execution": {
          "iopub.status.busy": "2024-11-16T09:08:10.611414Z",
          "iopub.execute_input": "2024-11-16T09:08:10.611841Z",
          "iopub.status.idle": "2024-11-16T09:08:10.796326Z",
          "shell.execute_reply.started": "2024-11-16T09:08:10.611795Z",
          "shell.execute_reply": "2024-11-16T09:08:10.795089Z"
        },
        "id": "2gmSgo7ZYE1o",
        "outputId": "f40b8162-5c82-484e-f6d1-24c20f3b5c4c"
      },
      "outputs": [
        {
          "execution_count": 52,
          "output_type": "execute_result",
          "data": {
            "text/plain": "<Axes: xlabel='gender', ylabel='count'>"
          },
          "metadata": {}
        },
        {
          "output_type": "display_data",
          "data": {
            "text/plain": "<Figure size 640x480 with 1 Axes>",
            "image/png": "[encoded data removed]"
          },
          "metadata": {}
        }
      ],
      "execution_count": null
    },
    {
      "cell_type": "code",
      "source": [
        "train_data.isnull()"
      ],
      "metadata": {
        "trusted": true,
        "execution": {
          "iopub.status.busy": "2024-11-16T09:08:10.797926Z",
          "iopub.execute_input": "2024-11-16T09:08:10.798302Z",
          "iopub.status.idle": "2024-11-16T09:08:10.820352Z",
          "shell.execute_reply.started": "2024-11-16T09:08:10.798261Z",
          "shell.execute_reply": "2024-11-16T09:08:10.819038Z"
        },
        "id": "i6iPjrgFYE1p",
        "outputId": "28e6901e-227f-43ac-9848-b3dfca31312b"
      },
      "outputs": [
        {
          "execution_count": 53,
          "output_type": "execute_result",
          "data": {
            "text/plain": "    customer_id    age  gender  total_spent  frequency  \\\n0         False  False   False        False      False   \n1         False  False   False        False      False   \n2         False  False   False        False      False   \n3         False  False   False        False      False   \n4         False  False   False        False      False   \n..          ...    ...     ...          ...        ...   \n95        False  False   False        False      False   \n96        False  False   False        False      False   \n97        False  False   False        False      False   \n98        False  False   False        False      False   \n99        False  False   False        False      False   \n\n    days_since_last_purchase  marketing_engaged  returned_next_month  \n0                      False              False                False  \n1                      False              False                False  \n2                      False              False                False  \n3                      False              False                False  \n4                      False              False                False  \n..                       ...                ...                  ...  \n95                     False              False                False  \n96                     False              False                False  \n97                     False              False                False  \n98                     False              False                False  \n99                     False              False                False  \n\n[100 rows x 8 columns]",
            "text/html": "<div>\n<style scoped>\n    .dataframe tbody tr th:only-of-type {\n        vertical-align: middle;\n    }\n\n    .dataframe tbody tr th {\n        vertical-align: top;\n    }\n\n    .dataframe thead th {\n        text-align: right;\n    }\n</style>\n<table border=\"1\" class=\"dataframe\">\n  <thead>\n    <tr style=\"text-align: right;\">\n      <th></th>\n      <th>customer_id</th>\n      <th>age</th>\n      <th>gender</th>\n      <th>total_spent</th>\n      <th>frequency</th>\n      <th>days_since_last_purchase</th>\n      <th>marketing_engaged</th>\n      <th>returned_next_month</th>\n    </tr>\n  </thead>\n  <tbody>\n    <tr>\n      <th>0</th>\n      <td>False</td>\n      <td>False</td>\n      <td>False</td>\n      <td>False</td>\n      <td>False</td>\n      <td>False</td>\n      <td>False</td>\n      <td>False</td>\n    </tr>\n    <tr>\n      <th>1</th>\n      <td>False</td>\n      <td>False</td>\n      <td>False</td>\n      <td>False</td>\n      <td>False</td>\n      <td>False</td>\n      <td>False</td>\n      <td>False</td>\n    </tr>\n    <tr>\n      <th>2</th>\n      <td>False</td>\n      <td>False</td>\n      <td>False</td>\n      <td>False</td>\n      <td>False</td>\n      <td>False</td>\n      <td>False</td>\n      <td>False</td>\n    </tr>\n    <tr>\n      <th>3</th>\n      <td>False</td>\n      <td>False</td>\n      <td>False</td>\n      <td>False</td>\n      <td>False</td>\n      <td>False</td>\n      <td>False</td>\n      <td>False</td>\n    </tr>\n    <tr>\n      <th>4</th>\n      <td>False</td>\n      <td>False</td>\n      <td>False</td>\n      <td>False</td>\n      <td>False</td>\n      <td>False</td>\n      <td>False</td>\n      <td>False</td>\n    </tr>\n    <tr>\n      <th>...</th>\n      <td>...</td>\n      <td>...</td>\n      <td>...</td>\n      <td>...</td>\n      <td>...</td>\n      <td>...</td>\n      <td>...</td>\n      <td>...</td>\n    </tr>\n    <tr>\n      <th>95</th>\n      <td>False</td>\n      <td>False</td>\n      <td>False</td>\n      <td>False</td>\n      <td>False</td>\n      <td>False</td>\n      <td>False</td>\n      <td>False</td>\n    </tr>\n    <tr>\n      <th>96</th>\n      <td>False</td>\n      <td>False</td>\n      <td>False</td>\n      <td>False</td>\n      <td>False</td>\n      <td>False</td>\n      <td>False</td>\n      <td>False</td>\n    </tr>\n    <tr>\n      <th>97</th>\n      <td>False</td>\n      <td>False</td>\n      <td>False</td>\n      <td>False</td>\n      <td>False</td>\n      <td>False</td>\n      <td>False</td>\n      <td>False</td>\n    </tr>\n    <tr>\n      <th>98</th>\n      <td>False</td>\n      <td>False</td>\n      <td>False</td>\n      <td>False</td>\n      <td>False</td>\n      <td>False</td>\n      <td>False</td>\n      <td>False</td>\n    </tr>\n    <tr>\n      <th>99</th>\n      <td>False</td>\n      <td>False</td>\n      <td>False</td>\n      <td>False</td>\n      <td>False</td>\n      <td>False</td>\n      <td>False</td>\n      <td>False</td>\n    </tr>\n  </tbody>\n</table>\n<p>100 rows × 8 columns</p>\n</div>"
          },
          "metadata": {}
        }
      ],
      "execution_count": null
    },
    {
      "cell_type": "code",
      "source": [
        "train_data.isnull().sum()\n",
        "train_data.isnull().mean()*100"
      ],
      "metadata": {
        "trusted": true,
        "execution": {
          "iopub.status.busy": "2024-11-16T09:08:10.822338Z",
          "iopub.execute_input": "2024-11-16T09:08:10.822918Z",
          "iopub.status.idle": "2024-11-16T09:08:10.840167Z",
          "shell.execute_reply.started": "2024-11-16T09:08:10.822852Z",
          "shell.execute_reply": "2024-11-16T09:08:10.838682Z"
        },
        "id": "YeARg_YyYE1q",
        "outputId": "9403cd2a-7b61-45da-e33a-ff80881732e0"
      },
      "outputs": [
        {
          "execution_count": 54,
          "output_type": "execute_result",
          "data": {
            "text/plain": "customer_id                 0.0\nage                         0.0\ngender                      0.0\ntotal_spent                 0.0\nfrequency                   0.0\ndays_since_last_purchase    0.0\nmarketing_engaged           0.0\nreturned_next_month         0.0\ndtype: float64"
          },
          "metadata": {}
        }
      ],
      "execution_count": null
    },
    {
      "cell_type": "code",
      "source": [
        "train_data['gender'] = train_data['gender'].map({'Female': 0, 'Male': 1}).astype(np.int8)\n",
        "train_data"
      ],
      "metadata": {
        "trusted": true,
        "execution": {
          "iopub.status.busy": "2024-11-16T09:08:10.842446Z",
          "iopub.execute_input": "2024-11-16T09:08:10.842916Z",
          "iopub.status.idle": "2024-11-16T09:08:10.867425Z",
          "shell.execute_reply.started": "2024-11-16T09:08:10.842872Z",
          "shell.execute_reply": "2024-11-16T09:08:10.866004Z"
        },
        "id": "gElpanNVYE1r",
        "outputId": "9f292b3f-5c3e-44cf-d69f-1b792982f9b6"
      },
      "outputs": [
        {
          "execution_count": 55,
          "output_type": "execute_result",
          "data": {
            "text/plain": "    customer_id  age  gender  total_spent  frequency  \\\n0             1   25       1       200.50          5   \n1             2   34       0       120.75          2   \n2             3   28       1       315.00          6   \n3             4   45       0       150.00          3   \n4             5   42       1       175.50          4   \n..          ...  ...     ...          ...        ...   \n95           96   33       0       240.00          5   \n96           97   31       1       305.00          7   \n97           98   40       0       215.25          4   \n98           99   36       1       185.50          3   \n99          100   29       0       225.00          6   \n\n    days_since_last_purchase  marketing_engaged  returned_next_month  \n0                         12                  1                    1  \n1                         30                  0                    0  \n2                          5                  1                    1  \n3                         15                  1                    0  \n4                         25                  0                    0  \n..                       ...                ...                  ...  \n95                         7                  1                    1  \n96                         9                  1                    1  \n97                        14                  0                    0  \n98                        20                  1                    0  \n99                        10                  0                    1  \n\n[100 rows x 8 columns]",
            "text/html": "<div>\n<style scoped>\n    .dataframe tbody tr th:only-of-type {\n        vertical-align: middle;\n    }\n\n    .dataframe tbody tr th {\n        vertical-align: top;\n    }\n\n    .dataframe thead th {\n        text-align: right;\n    }\n</style>\n<table border=\"1\" class=\"dataframe\">\n  <thead>\n    <tr style=\"text-align: right;\">\n      <th></th>\n      <th>customer_id</th>\n      <th>age</th>\n      <th>gender</th>\n      <th>total_spent</th>\n      <th>frequency</th>\n      <th>days_since_last_purchase</th>\n      <th>marketing_engaged</th>\n      <th>returned_next_month</th>\n    </tr>\n  </thead>\n  <tbody>\n    <tr>\n      <th>0</th>\n      <td>1</td>\n      <td>25</td>\n      <td>1</td>\n      <td>200.50</td>\n      <td>5</td>\n      <td>12</td>\n      <td>1</td>\n      <td>1</td>\n    </tr>\n    <tr>\n      <th>1</th>\n      <td>2</td>\n      <td>34</td>\n      <td>0</td>\n      <td>120.75</td>\n      <td>2</td>\n      <td>30</td>\n      <td>0</td>\n      <td>0</td>\n    </tr>\n    <tr>\n      <th>2</th>\n      <td>3</td>\n      <td>28</td>\n      <td>1</td>\n      <td>315.00</td>\n      <td>6</td>\n      <td>5</td>\n      <td>1</td>\n      <td>1</td>\n    </tr>\n    <tr>\n      <th>3</th>\n      <td>4</td>\n      <td>45</td>\n      <td>0</td>\n      <td>150.00</td>\n      <td>3</td>\n      <td>15</td>\n      <td>1</td>\n      <td>0</td>\n    </tr>\n    <tr>\n      <th>4</th>\n      <td>5</td>\n      <td>42</td>\n      <td>1</td>\n      <td>175.50</td>\n      <td>4</td>\n      <td>25</td>\n      <td>0</td>\n      <td>0</td>\n    </tr>\n    <tr>\n      <th>...</th>\n      <td>...</td>\n      <td>...</td>\n      <td>...</td>\n      <td>...</td>\n      <td>...</td>\n      <td>...</td>\n      <td>...</td>\n      <td>...</td>\n    </tr>\n    <tr>\n      <th>95</th>\n      <td>96</td>\n      <td>33</td>\n      <td>0</td>\n      <td>240.00</td>\n      <td>5</td>\n      <td>7</td>\n      <td>1</td>\n      <td>1</td>\n    </tr>\n    <tr>\n      <th>96</th>\n      <td>97</td>\n      <td>31</td>\n      <td>1</td>\n      <td>305.00</td>\n      <td>7</td>\n      <td>9</td>\n      <td>1</td>\n      <td>1</td>\n    </tr>\n    <tr>\n      <th>97</th>\n      <td>98</td>\n      <td>40</td>\n      <td>0</td>\n      <td>215.25</td>\n      <td>4</td>\n      <td>14</td>\n      <td>0</td>\n      <td>0</td>\n    </tr>\n    <tr>\n      <th>98</th>\n      <td>99</td>\n      <td>36</td>\n      <td>1</td>\n      <td>185.50</td>\n      <td>3</td>\n      <td>20</td>\n      <td>1</td>\n      <td>0</td>\n    </tr>\n    <tr>\n      <th>99</th>\n      <td>100</td>\n      <td>29</td>\n      <td>0</td>\n      <td>225.00</td>\n      <td>6</td>\n      <td>10</td>\n      <td>0</td>\n      <td>1</td>\n    </tr>\n  </tbody>\n</table>\n<p>100 rows × 8 columns</p>\n</div>"
          },
          "metadata": {}
        }
      ],
      "execution_count": null
    },
    {
      "cell_type": "code",
      "source": [
        "scaler = StandardScaler()\n",
        "scaler.fit(train_data[['age', 'total_spent', 'frequency', 'days_since_last_purchase']])"
      ],
      "metadata": {
        "trusted": true,
        "execution": {
          "iopub.status.busy": "2024-11-16T09:08:10.869995Z",
          "iopub.execute_input": "2024-11-16T09:08:10.870528Z",
          "iopub.status.idle": "2024-11-16T09:08:10.887605Z",
          "shell.execute_reply.started": "2024-11-16T09:08:10.87047Z",
          "shell.execute_reply": "2024-11-16T09:08:10.886221Z"
        },
        "id": "ehkOl8xKYE1r",
        "outputId": "463f72c4-3403-4d37-a73d-4a1c5d6b3aa5"
      },
      "outputs": [
        {
          "execution_count": 56,
          "output_type": "execute_result",
          "data": {
            "text/plain": "StandardScaler()",
            "text/html": "<style>#sk-container-id-5 {color: black;background-color: white;}#sk-container-id-5 pre{padding: 0;}#sk-container-id-5 div.sk-toggleable {background-color: white;}#sk-container-id-5 label.sk-toggleable__label {cursor: pointer;display: block;width: 100%;margin-bottom: 0;padding: 0.3em;box-sizing: border-box;text-align: center;}#sk-container-id-5 label.sk-toggleable__label-arrow:before {content: \"▸\";float: left;margin-right: 0.25em;color: #696969;}#sk-container-id-5 label.sk-toggleable__label-arrow:hover:before {color: black;}#sk-container-id-5 div.sk-estimator:hover label.sk-toggleable__label-arrow:before {color: black;}#sk-container-id-5 div.sk-toggleable__content {max-height: 0;max-width: 0;overflow: hidden;text-align: left;background-color: #f0f8ff;}#sk-container-id-5 div.sk-toggleable__content pre {margin: 0.2em;color: black;border-radius: 0.25em;background-color: #f0f8ff;}#sk-container-id-5 input.sk-toggleable__control:checked~div.sk-toggleable__content {max-height: 200px;max-width: 100%;overflow: auto;}#sk-container-id-5 input.sk-toggleable__control:checked~label.sk-toggleable__label-arrow:before {content: \"▾\";}#sk-container-id-5 div.sk-estimator input.sk-toggleable__control:checked~label.sk-toggleable__label {background-color: #d4ebff;}#sk-container-id-5 div.sk-label input.sk-toggleable__control:checked~label.sk-toggleable__label {background-color: #d4ebff;}#sk-container-id-5 input.sk-hidden--visually {border: 0;clip: rect(1px 1px 1px 1px);clip: rect(1px, 1px, 1px, 1px);height: 1px;margin: -1px;overflow: hidden;padding: 0;position: absolute;width: 1px;}#sk-container-id-5 div.sk-estimator {font-family: monospace;background-color: #f0f8ff;border: 1px dotted black;border-radius: 0.25em;box-sizing: border-box;margin-bottom: 0.5em;}#sk-container-id-5 div.sk-estimator:hover {background-color: #d4ebff;}#sk-container-id-5 div.sk-parallel-item::after {content: \"\";width: 100%;border-bottom: 1px solid gray;flex-grow: 1;}#sk-container-id-5 div.sk-label:hover label.sk-toggleable__label {background-color: #d4ebff;}#sk-container-id-5 div.sk-serial::before {content: \"\";position: absolute;border-left: 1px solid gray;box-sizing: border-box;top: 0;bottom: 0;left: 50%;z-index: 0;}#sk-container-id-5 div.sk-serial {display: flex;flex-direction: column;align-items: center;background-color: white;padding-right: 0.2em;padding-left: 0.2em;position: relative;}#sk-container-id-5 div.sk-item {position: relative;z-index: 1;}#sk-container-id-5 div.sk-parallel {display: flex;align-items: stretch;justify-content: center;background-color: white;position: relative;}#sk-container-id-5 div.sk-item::before, #sk-container-id-5 div.sk-parallel-item::before {content: \"\";position: absolute;border-left: 1px solid gray;box-sizing: border-box;top: 0;bottom: 0;left: 50%;z-index: -1;}#sk-container-id-5 div.sk-parallel-item {display: flex;flex-direction: column;z-index: 1;position: relative;background-color: white;}#sk-container-id-5 div.sk-parallel-item:first-child::after {align-self: flex-end;width: 50%;}#sk-container-id-5 div.sk-parallel-item:last-child::after {align-self: flex-start;width: 50%;}#sk-container-id-5 div.sk-parallel-item:only-child::after {width: 0;}#sk-container-id-5 div.sk-dashed-wrapped {border: 1px dashed gray;margin: 0 0.4em 0.5em 0.4em;box-sizing: border-box;padding-bottom: 0.4em;background-color: white;}#sk-container-id-5 div.sk-label label {font-family: monospace;font-weight: bold;display: inline-block;line-height: 1.2em;}#sk-container-id-5 div.sk-label-container {text-align: center;}#sk-container-id-5 div.sk-container {/* jupyter's `normalize.less` sets `[hidden] { display: none; }` but bootstrap.min.css set `[hidden] { display: none !important; }` so we also need the `!important` here to be able to override the default hidden behavior on the sphinx rendered scikit-learn.org. See: https://github.com/scikit-learn/scikit-learn/issues/21755 */display: inline-block !important;position: relative;}#sk-container-id-5 div.sk-text-repr-fallback {display: none;}</style><div id=\"sk-container-id-5\" class=\"sk-top-container\"><div class=\"sk-text-repr-fallback\"><pre>StandardScaler()</pre><b>In a Jupyter environment, please rerun this cell to show the HTML representation or trust the notebook. <br />On GitHub, the HTML representation is unable to render, please try loading this page with nbviewer.org.</b></div><div class=\"sk-container\" hidden><div class=\"sk-item\"><div class=\"sk-estimator sk-toggleable\"><input class=\"sk-toggleable__control sk-hidden--visually\" id=\"sk-estimator-id-5\" type=\"checkbox\" checked><label for=\"sk-estimator-id-5\" class=\"sk-toggleable__label sk-toggleable__label-arrow\">StandardScaler</label><div class=\"sk-toggleable__content\"><pre>StandardScaler()</pre></div></div></div></div></div>"
          },
          "metadata": {}
        }
      ],
      "execution_count": null
    },
    {
      "cell_type": "code",
      "source": [
        "train_data[['age', 'total_spent', 'frequency', 'days_since_last_purchase']] = scaler.transform(train_data[['age', 'total_spent', 'frequency', 'days_since_last_purchase']])"
      ],
      "metadata": {
        "trusted": true,
        "execution": {
          "iopub.status.busy": "2024-11-16T09:08:10.892457Z",
          "iopub.execute_input": "2024-11-16T09:08:10.892961Z",
          "iopub.status.idle": "2024-11-16T09:08:10.904132Z",
          "shell.execute_reply.started": "2024-11-16T09:08:10.892908Z",
          "shell.execute_reply": "2024-11-16T09:08:10.902747Z"
        },
        "id": "d08_P6WRYE1r"
      },
      "outputs": [],
      "execution_count": null
    },
    {
      "cell_type": "code",
      "source": [
        "train_data[['age', 'total_spent', 'frequency', 'days_since_last_purchase']].describe()"
      ],
      "metadata": {
        "trusted": true,
        "execution": {
          "iopub.status.busy": "2024-11-16T09:08:10.90581Z",
          "iopub.execute_input": "2024-11-16T09:08:10.906329Z",
          "iopub.status.idle": "2024-11-16T09:08:10.941192Z",
          "shell.execute_reply.started": "2024-11-16T09:08:10.90627Z",
          "shell.execute_reply": "2024-11-16T09:08:10.939769Z"
        },
        "id": "d_D29lVVYE1r",
        "outputId": "f363dec9-ac6f-431b-f020-ae0b984ce311"
      },
      "outputs": [
        {
          "execution_count": 58,
          "output_type": "execute_result",
          "data": {
            "text/plain": "                age   total_spent     frequency  days_since_last_purchase\ncount  1.000000e+02  1.000000e+02  1.000000e+02              1.000000e+02\nmean   4.329870e-16 -1.776357e-17 -4.440892e-18              5.440093e-17\nstd    1.005038e+00  1.005038e+00  1.005038e+00              1.005038e+00\nmin   -1.516461e+00 -1.573838e+00 -1.666667e+00             -1.269194e+00\n25%   -8.642198e-01 -6.422962e-01 -1.000000e+00             -7.458152e-01\n50%   -1.304483e-01 -9.145277e-02  0.000000e+00             -2.224361e-01\n75%    9.294439e-01  4.551370e-01  1.000000e+00              6.934773e-01\nmax    1.744746e+00  1.731222e+00  1.666667e+00              2.001925e+00",
            "text/html": "<div>\n<style scoped>\n    .dataframe tbody tr th:only-of-type {\n        vertical-align: middle;\n    }\n\n    .dataframe tbody tr th {\n        vertical-align: top;\n    }\n\n    .dataframe thead th {\n        text-align: right;\n    }\n</style>\n<table border=\"1\" class=\"dataframe\">\n  <thead>\n    <tr style=\"text-align: right;\">\n      <th></th>\n      <th>age</th>\n      <th>total_spent</th>\n      <th>frequency</th>\n      <th>days_since_last_purchase</th>\n    </tr>\n  </thead>\n  <tbody>\n    <tr>\n      <th>count</th>\n      <td>1.000000e+02</td>\n      <td>1.000000e+02</td>\n      <td>1.000000e+02</td>\n      <td>1.000000e+02</td>\n    </tr>\n    <tr>\n      <th>mean</th>\n      <td>4.329870e-16</td>\n      <td>-1.776357e-17</td>\n      <td>-4.440892e-18</td>\n      <td>5.440093e-17</td>\n    </tr>\n    <tr>\n      <th>std</th>\n      <td>1.005038e+00</td>\n      <td>1.005038e+00</td>\n      <td>1.005038e+00</td>\n      <td>1.005038e+00</td>\n    </tr>\n    <tr>\n      <th>min</th>\n      <td>-1.516461e+00</td>\n      <td>-1.573838e+00</td>\n      <td>-1.666667e+00</td>\n      <td>-1.269194e+00</td>\n    </tr>\n    <tr>\n      <th>25%</th>\n      <td>-8.642198e-01</td>\n      <td>-6.422962e-01</td>\n      <td>-1.000000e+00</td>\n      <td>-7.458152e-01</td>\n    </tr>\n    <tr>\n      <th>50%</th>\n      <td>-1.304483e-01</td>\n      <td>-9.145277e-02</td>\n      <td>0.000000e+00</td>\n      <td>-2.224361e-01</td>\n    </tr>\n    <tr>\n      <th>75%</th>\n      <td>9.294439e-01</td>\n      <td>4.551370e-01</td>\n      <td>1.000000e+00</td>\n      <td>6.934773e-01</td>\n    </tr>\n    <tr>\n      <th>max</th>\n      <td>1.744746e+00</td>\n      <td>1.731222e+00</td>\n      <td>1.666667e+00</td>\n      <td>2.001925e+00</td>\n    </tr>\n  </tbody>\n</table>\n</div>"
          },
          "metadata": {}
        }
      ],
      "execution_count": null
    },
    {
      "cell_type": "code",
      "source": [
        "# variables predictoras\n",
        "X = train_data.drop(['returned_next_month', 'customer_id'], axis=1)\n",
        "\n",
        "# variable objetivo\n",
        "y = train_data['returned_next_month']"
      ],
      "metadata": {
        "trusted": true,
        "execution": {
          "iopub.status.busy": "2024-11-16T09:08:10.94245Z",
          "iopub.execute_input": "2024-11-16T09:08:10.942881Z",
          "iopub.status.idle": "2024-11-16T09:08:10.950629Z",
          "shell.execute_reply.started": "2024-11-16T09:08:10.942839Z",
          "shell.execute_reply": "2024-11-16T09:08:10.949278Z"
        },
        "id": "gd70lT26YE1s"
      },
      "outputs": [],
      "execution_count": null
    },
    {
      "cell_type": "code",
      "source": [
        "# Dividir los datos\n",
        "X_train, X_val, y_train, y_val = train_test_split(X, y, test_size=0.2, random_state=42)"
      ],
      "metadata": {
        "trusted": true,
        "execution": {
          "iopub.status.busy": "2024-11-16T09:08:10.952525Z",
          "iopub.execute_input": "2024-11-16T09:08:10.952982Z",
          "iopub.status.idle": "2024-11-16T09:08:10.968946Z",
          "shell.execute_reply.started": "2024-11-16T09:08:10.95293Z",
          "shell.execute_reply": "2024-11-16T09:08:10.967362Z"
        },
        "id": "g6EPWPblYE1s"
      },
      "outputs": [],
      "execution_count": null
    },
    {
      "cell_type": "code",
      "source": [
        "model1 = LogisticRegression()\n",
        "model1.fit(X_train, y_train)"
      ],
      "metadata": {
        "trusted": true,
        "execution": {
          "iopub.status.busy": "2024-11-16T09:08:10.970923Z",
          "iopub.execute_input": "2024-11-16T09:08:10.971383Z",
          "iopub.status.idle": "2024-11-16T09:08:10.9955Z",
          "shell.execute_reply.started": "2024-11-16T09:08:10.971339Z",
          "shell.execute_reply": "2024-11-16T09:08:10.994075Z"
        },
        "id": "NdVhjrMyYE1s",
        "outputId": "32d8ac12-16c8-41e5-d81d-b9c0ce732b6b"
      },
      "outputs": [
        {
          "execution_count": 61,
          "output_type": "execute_result",
          "data": {
            "text/plain": "LogisticRegression()",
            "text/html": "<style>#sk-container-id-6 {color: black;background-color: white;}#sk-container-id-6 pre{padding: 0;}#sk-container-id-6 div.sk-toggleable {background-color: white;}#sk-container-id-6 label.sk-toggleable__label {cursor: pointer;display: block;width: 100%;margin-bottom: 0;padding: 0.3em;box-sizing: border-box;text-align: center;}#sk-container-id-6 label.sk-toggleable__label-arrow:before {content: \"▸\";float: left;margin-right: 0.25em;color: #696969;}#sk-container-id-6 label.sk-toggleable__label-arrow:hover:before {color: black;}#sk-container-id-6 div.sk-estimator:hover label.sk-toggleable__label-arrow:before {color: black;}#sk-container-id-6 div.sk-toggleable__content {max-height: 0;max-width: 0;overflow: hidden;text-align: left;background-color: #f0f8ff;}#sk-container-id-6 div.sk-toggleable__content pre {margin: 0.2em;color: black;border-radius: 0.25em;background-color: #f0f8ff;}#sk-container-id-6 input.sk-toggleable__control:checked~div.sk-toggleable__content {max-height: 200px;max-width: 100%;overflow: auto;}#sk-container-id-6 input.sk-toggleable__control:checked~label.sk-toggleable__label-arrow:before {content: \"▾\";}#sk-container-id-6 div.sk-estimator input.sk-toggleable__control:checked~label.sk-toggleable__label {background-color: #d4ebff;}#sk-container-id-6 div.sk-label input.sk-toggleable__control:checked~label.sk-toggleable__label {background-color: #d4ebff;}#sk-container-id-6 input.sk-hidden--visually {border: 0;clip: rect(1px 1px 1px 1px);clip: rect(1px, 1px, 1px, 1px);height: 1px;margin: -1px;overflow: hidden;padding: 0;position: absolute;width: 1px;}#sk-container-id-6 div.sk-estimator {font-family: monospace;background-color: #f0f8ff;border: 1px dotted black;border-radius: 0.25em;box-sizing: border-box;margin-bottom: 0.5em;}#sk-container-id-6 div.sk-estimator:hover {background-color: #d4ebff;}#sk-container-id-6 div.sk-parallel-item::after {content: \"\";width: 100%;border-bottom: 1px solid gray;flex-grow: 1;}#sk-container-id-6 div.sk-label:hover label.sk-toggleable__label {background-color: #d4ebff;}#sk-container-id-6 div.sk-serial::before {content: \"\";position: absolute;border-left: 1px solid gray;box-sizing: border-box;top: 0;bottom: 0;left: 50%;z-index: 0;}#sk-container-id-6 div.sk-serial {display: flex;flex-direction: column;align-items: center;background-color: white;padding-right: 0.2em;padding-left: 0.2em;position: relative;}#sk-container-id-6 div.sk-item {position: relative;z-index: 1;}#sk-container-id-6 div.sk-parallel {display: flex;align-items: stretch;justify-content: center;background-color: white;position: relative;}#sk-container-id-6 div.sk-item::before, #sk-container-id-6 div.sk-parallel-item::before {content: \"\";position: absolute;border-left: 1px solid gray;box-sizing: border-box;top: 0;bottom: 0;left: 50%;z-index: -1;}#sk-container-id-6 div.sk-parallel-item {display: flex;flex-direction: column;z-index: 1;position: relative;background-color: white;}#sk-container-id-6 div.sk-parallel-item:first-child::after {align-self: flex-end;width: 50%;}#sk-container-id-6 div.sk-parallel-item:last-child::after {align-self: flex-start;width: 50%;}#sk-container-id-6 div.sk-parallel-item:only-child::after {width: 0;}#sk-container-id-6 div.sk-dashed-wrapped {border: 1px dashed gray;margin: 0 0.4em 0.5em 0.4em;box-sizing: border-box;padding-bottom: 0.4em;background-color: white;}#sk-container-id-6 div.sk-label label {font-family: monospace;font-weight: bold;display: inline-block;line-height: 1.2em;}#sk-container-id-6 div.sk-label-container {text-align: center;}#sk-container-id-6 div.sk-container {/* jupyter's `normalize.less` sets `[hidden] { display: none; }` but bootstrap.min.css set `[hidden] { display: none !important; }` so we also need the `!important` here to be able to override the default hidden behavior on the sphinx rendered scikit-learn.org. See: https://github.com/scikit-learn/scikit-learn/issues/21755 */display: inline-block !important;position: relative;}#sk-container-id-6 div.sk-text-repr-fallback {display: none;}</style><div id=\"sk-container-id-6\" class=\"sk-top-container\"><div class=\"sk-text-repr-fallback\"><pre>LogisticRegression()</pre><b>In a Jupyter environment, please rerun this cell to show the HTML representation or trust the notebook. <br />On GitHub, the HTML representation is unable to render, please try loading this page with nbviewer.org.</b></div><div class=\"sk-container\" hidden><div class=\"sk-item\"><div class=\"sk-estimator sk-toggleable\"><input class=\"sk-toggleable__control sk-hidden--visually\" id=\"sk-estimator-id-6\" type=\"checkbox\" checked><label for=\"sk-estimator-id-6\" class=\"sk-toggleable__label sk-toggleable__label-arrow\">LogisticRegression</label><div class=\"sk-toggleable__content\"><pre>LogisticRegression()</pre></div></div></div></div></div>"
          },
          "metadata": {}
        }
      ],
      "execution_count": null
    },
    {
      "cell_type": "code",
      "source": [
        "model2 = DecisionTreeClassifier(random_state=0)\n",
        "model2.fit(X_train, y_train)"
      ],
      "metadata": {
        "trusted": true,
        "execution": {
          "iopub.status.busy": "2024-11-16T09:25:13.803161Z",
          "iopub.execute_input": "2024-11-16T09:25:13.803671Z",
          "iopub.status.idle": "2024-11-16T09:25:13.818796Z",
          "shell.execute_reply.started": "2024-11-16T09:25:13.803629Z",
          "shell.execute_reply": "2024-11-16T09:25:13.817429Z"
        },
        "id": "5G8zgYi0YE1s",
        "outputId": "e863778d-3183-40c3-b0af-5ec40471dc94"
      },
      "outputs": [
        {
          "execution_count": 77,
          "output_type": "execute_result",
          "data": {
            "text/plain": "DecisionTreeClassifier(random_state=0)",
            "text/html": "<style>#sk-container-id-9 {color: black;background-color: white;}#sk-container-id-9 pre{padding: 0;}#sk-container-id-9 div.sk-toggleable {background-color: white;}#sk-container-id-9 label.sk-toggleable__label {cursor: pointer;display: block;width: 100%;margin-bottom: 0;padding: 0.3em;box-sizing: border-box;text-align: center;}#sk-container-id-9 label.sk-toggleable__label-arrow:before {content: \"▸\";float: left;margin-right: 0.25em;color: #696969;}#sk-container-id-9 label.sk-toggleable__label-arrow:hover:before {color: black;}#sk-container-id-9 div.sk-estimator:hover label.sk-toggleable__label-arrow:before {color: black;}#sk-container-id-9 div.sk-toggleable__content {max-height: 0;max-width: 0;overflow: hidden;text-align: left;background-color: #f0f8ff;}#sk-container-id-9 div.sk-toggleable__content pre {margin: 0.2em;color: black;border-radius: 0.25em;background-color: #f0f8ff;}#sk-container-id-9 input.sk-toggleable__control:checked~div.sk-toggleable__content {max-height: 200px;max-width: 100%;overflow: auto;}#sk-container-id-9 input.sk-toggleable__control:checked~label.sk-toggleable__label-arrow:before {content: \"▾\";}#sk-container-id-9 div.sk-estimator input.sk-toggleable__control:checked~label.sk-toggleable__label {background-color: #d4ebff;}#sk-container-id-9 div.sk-label input.sk-toggleable__control:checked~label.sk-toggleable__label {background-color: #d4ebff;}#sk-container-id-9 input.sk-hidden--visually {border: 0;clip: rect(1px 1px 1px 1px);clip: rect(1px, 1px, 1px, 1px);height: 1px;margin: -1px;overflow: hidden;padding: 0;position: absolute;width: 1px;}#sk-container-id-9 div.sk-estimator {font-family: monospace;background-color: #f0f8ff;border: 1px dotted black;border-radius: 0.25em;box-sizing: border-box;margin-bottom: 0.5em;}#sk-container-id-9 div.sk-estimator:hover {background-color: #d4ebff;}#sk-container-id-9 div.sk-parallel-item::after {content: \"\";width: 100%;border-bottom: 1px solid gray;flex-grow: 1;}#sk-container-id-9 div.sk-label:hover label.sk-toggleable__label {background-color: #d4ebff;}#sk-container-id-9 div.sk-serial::before {content: \"\";position: absolute;border-left: 1px solid gray;box-sizing: border-box;top: 0;bottom: 0;left: 50%;z-index: 0;}#sk-container-id-9 div.sk-serial {display: flex;flex-direction: column;align-items: center;background-color: white;padding-right: 0.2em;padding-left: 0.2em;position: relative;}#sk-container-id-9 div.sk-item {position: relative;z-index: 1;}#sk-container-id-9 div.sk-parallel {display: flex;align-items: stretch;justify-content: center;background-color: white;position: relative;}#sk-container-id-9 div.sk-item::before, #sk-container-id-9 div.sk-parallel-item::before {content: \"\";position: absolute;border-left: 1px solid gray;box-sizing: border-box;top: 0;bottom: 0;left: 50%;z-index: -1;}#sk-container-id-9 div.sk-parallel-item {display: flex;flex-direction: column;z-index: 1;position: relative;background-color: white;}#sk-container-id-9 div.sk-parallel-item:first-child::after {align-self: flex-end;width: 50%;}#sk-container-id-9 div.sk-parallel-item:last-child::after {align-self: flex-start;width: 50%;}#sk-container-id-9 div.sk-parallel-item:only-child::after {width: 0;}#sk-container-id-9 div.sk-dashed-wrapped {border: 1px dashed gray;margin: 0 0.4em 0.5em 0.4em;box-sizing: border-box;padding-bottom: 0.4em;background-color: white;}#sk-container-id-9 div.sk-label label {font-family: monospace;font-weight: bold;display: inline-block;line-height: 1.2em;}#sk-container-id-9 div.sk-label-container {text-align: center;}#sk-container-id-9 div.sk-container {/* jupyter's `normalize.less` sets `[hidden] { display: none; }` but bootstrap.min.css set `[hidden] { display: none !important; }` so we also need the `!important` here to be able to override the default hidden behavior on the sphinx rendered scikit-learn.org. See: https://github.com/scikit-learn/scikit-learn/issues/21755 */display: inline-block !important;position: relative;}#sk-container-id-9 div.sk-text-repr-fallback {display: none;}</style><div id=\"sk-container-id-9\" class=\"sk-top-container\"><div class=\"sk-text-repr-fallback\"><pre>DecisionTreeClassifier(random_state=0)</pre><b>In a Jupyter environment, please rerun this cell to show the HTML representation or trust the notebook. <br />On GitHub, the HTML representation is unable to render, please try loading this page with nbviewer.org.</b></div><div class=\"sk-container\" hidden><div class=\"sk-item\"><div class=\"sk-estimator sk-toggleable\"><input class=\"sk-toggleable__control sk-hidden--visually\" id=\"sk-estimator-id-9\" type=\"checkbox\" checked><label for=\"sk-estimator-id-9\" class=\"sk-toggleable__label sk-toggleable__label-arrow\">DecisionTreeClassifier</label><div class=\"sk-toggleable__content\"><pre>DecisionTreeClassifier(random_state=0)</pre></div></div></div></div></div>"
          },
          "metadata": {}
        }
      ],
      "execution_count": null
    },
    {
      "cell_type": "code",
      "source": [
        "model3 = RandomForestClassifier(max_depth=2, random_state=0)\n",
        "model3.fit(X_train, y_train)"
      ],
      "metadata": {
        "trusted": true,
        "execution": {
          "iopub.status.busy": "2024-11-16T09:25:19.349551Z",
          "iopub.execute_input": "2024-11-16T09:25:19.350056Z",
          "iopub.status.idle": "2024-11-16T09:25:19.578784Z",
          "shell.execute_reply.started": "2024-11-16T09:25:19.350011Z",
          "shell.execute_reply": "2024-11-16T09:25:19.577652Z"
        },
        "id": "OvPaZToYYE1s",
        "outputId": "e4760af7-6d38-4ab3-85b8-674f2aac9d8b"
      },
      "outputs": [
        {
          "execution_count": 78,
          "output_type": "execute_result",
          "data": {
            "text/plain": "RandomForestClassifier(max_depth=2, random_state=0)",
            "text/html": "<style>#sk-container-id-10 {color: black;background-color: white;}#sk-container-id-10 pre{padding: 0;}#sk-container-id-10 div.sk-toggleable {background-color: white;}#sk-container-id-10 label.sk-toggleable__label {cursor: pointer;display: block;width: 100%;margin-bottom: 0;padding: 0.3em;box-sizing: border-box;text-align: center;}#sk-container-id-10 label.sk-toggleable__label-arrow:before {content: \"▸\";float: left;margin-right: 0.25em;color: #696969;}#sk-container-id-10 label.sk-toggleable__label-arrow:hover:before {color: black;}#sk-container-id-10 div.sk-estimator:hover label.sk-toggleable__label-arrow:before {color: black;}#sk-container-id-10 div.sk-toggleable__content {max-height: 0;max-width: 0;overflow: hidden;text-align: left;background-color: #f0f8ff;}#sk-container-id-10 div.sk-toggleable__content pre {margin: 0.2em;color: black;border-radius: 0.25em;background-color: #f0f8ff;}#sk-container-id-10 input.sk-toggleable__control:checked~div.sk-toggleable__content {max-height: 200px;max-width: 100%;overflow: auto;}#sk-container-id-10 input.sk-toggleable__control:checked~label.sk-toggleable__label-arrow:before {content: \"▾\";}#sk-container-id-10 div.sk-estimator input.sk-toggleable__control:checked~label.sk-toggleable__label {background-color: #d4ebff;}#sk-container-id-10 div.sk-label input.sk-toggleable__control:checked~label.sk-toggleable__label {background-color: #d4ebff;}#sk-container-id-10 input.sk-hidden--visually {border: 0;clip: rect(1px 1px 1px 1px);clip: rect(1px, 1px, 1px, 1px);height: 1px;margin: -1px;overflow: hidden;padding: 0;position: absolute;width: 1px;}#sk-container-id-10 div.sk-estimator {font-family: monospace;background-color: #f0f8ff;border: 1px dotted black;border-radius: 0.25em;box-sizing: border-box;margin-bottom: 0.5em;}#sk-container-id-10 div.sk-estimator:hover {background-color: #d4ebff;}#sk-container-id-10 div.sk-parallel-item::after {content: \"\";width: 100%;border-bottom: 1px solid gray;flex-grow: 1;}#sk-container-id-10 div.sk-label:hover label.sk-toggleable__label {background-color: #d4ebff;}#sk-container-id-10 div.sk-serial::before {content: \"\";position: absolute;border-left: 1px solid gray;box-sizing: border-box;top: 0;bottom: 0;left: 50%;z-index: 0;}#sk-container-id-10 div.sk-serial {display: flex;flex-direction: column;align-items: center;background-color: white;padding-right: 0.2em;padding-left: 0.2em;position: relative;}#sk-container-id-10 div.sk-item {position: relative;z-index: 1;}#sk-container-id-10 div.sk-parallel {display: flex;align-items: stretch;justify-content: center;background-color: white;position: relative;}#sk-container-id-10 div.sk-item::before, #sk-container-id-10 div.sk-parallel-item::before {content: \"\";position: absolute;border-left: 1px solid gray;box-sizing: border-box;top: 0;bottom: 0;left: 50%;z-index: -1;}#sk-container-id-10 div.sk-parallel-item {display: flex;flex-direction: column;z-index: 1;position: relative;background-color: white;}#sk-container-id-10 div.sk-parallel-item:first-child::after {align-self: flex-end;width: 50%;}#sk-container-id-10 div.sk-parallel-item:last-child::after {align-self: flex-start;width: 50%;}#sk-container-id-10 div.sk-parallel-item:only-child::after {width: 0;}#sk-container-id-10 div.sk-dashed-wrapped {border: 1px dashed gray;margin: 0 0.4em 0.5em 0.4em;box-sizing: border-box;padding-bottom: 0.4em;background-color: white;}#sk-container-id-10 div.sk-label label {font-family: monospace;font-weight: bold;display: inline-block;line-height: 1.2em;}#sk-container-id-10 div.sk-label-container {text-align: center;}#sk-container-id-10 div.sk-container {/* jupyter's `normalize.less` sets `[hidden] { display: none; }` but bootstrap.min.css set `[hidden] { display: none !important; }` so we also need the `!important` here to be able to override the default hidden behavior on the sphinx rendered scikit-learn.org. See: https://github.com/scikit-learn/scikit-learn/issues/21755 */display: inline-block !important;position: relative;}#sk-container-id-10 div.sk-text-repr-fallback {display: none;}</style><div id=\"sk-container-id-10\" class=\"sk-top-container\"><div class=\"sk-text-repr-fallback\"><pre>RandomForestClassifier(max_depth=2, random_state=0)</pre><b>In a Jupyter environment, please rerun this cell to show the HTML representation or trust the notebook. <br />On GitHub, the HTML representation is unable to render, please try loading this page with nbviewer.org.</b></div><div class=\"sk-container\" hidden><div class=\"sk-item\"><div class=\"sk-estimator sk-toggleable\"><input class=\"sk-toggleable__control sk-hidden--visually\" id=\"sk-estimator-id-10\" type=\"checkbox\" checked><label for=\"sk-estimator-id-10\" class=\"sk-toggleable__label sk-toggleable__label-arrow\">RandomForestClassifier</label><div class=\"sk-toggleable__content\"><pre>RandomForestClassifier(max_depth=2, random_state=0)</pre></div></div></div></div></div>"
          },
          "metadata": {}
        }
      ],
      "execution_count": null
    },
    {
      "cell_type": "code",
      "source": [
        "y_pred1 = model1.predict(X_val)\n",
        "print(y_pred1)\n",
        "y_pred2 = model2.predict(X_val)\n",
        "print(y_pred2)\n",
        "y_pred3 = model3.predict(X_val)\n",
        "print(y_pred3)"
      ],
      "metadata": {
        "trusted": true,
        "execution": {
          "iopub.status.busy": "2024-11-16T09:25:25.355974Z",
          "iopub.execute_input": "2024-11-16T09:25:25.356478Z",
          "iopub.status.idle": "2024-11-16T09:25:25.383998Z",
          "shell.execute_reply.started": "2024-11-16T09:25:25.356434Z",
          "shell.execute_reply": "2024-11-16T09:25:25.382382Z"
        },
        "id": "H0hfm6lLYE1s",
        "outputId": "025d5cd2-fba5-454f-932d-742a931c9547"
      },
      "outputs": [
        {
          "name": "stdout",
          "text": "[0 0 1 1 0 1 1 1 1 1 0 1 0 0 1 0 1 0 1 0]\n[0 0 1 1 0 1 1 1 1 1 0 1 0 0 1 0 1 0 1 0]\n[0 0 1 1 0 1 1 1 1 1 0 1 0 0 1 0 1 0 1 0]\n",
          "output_type": "stream"
        }
      ],
      "execution_count": null
    },
    {
      "cell_type": "code",
      "source": [
        "# Evaluar el rendimiento métricas de rendimiento: exactitud, precisión, recall, F1 y AUC-ROC.\n",
        "#print(mean_absolute_error(y_val, y_pred1))\n",
        "#print(mean_squared_error(y_val, y_pred1))\n",
        "print(r2_score(y_val, y_pred1))\n",
        "accuracy1=accuracy_score(y_val, y_pred1)\n",
        "print(f\"Accuracy: {accuracy1:.4f}\")\n",
        "print(precision_score(y_val, y_pred1))\n",
        "print(recall_score(y_val, y_pred1, average='binary', zero_division=1))\n",
        "print(f1_score(y_val, y_pred1, zero_division=1.0))\n",
        "print(roc_auc_score(y, model1.predict_proba(X)[:, 1]))"
      ],
      "metadata": {
        "trusted": true,
        "execution": {
          "iopub.status.busy": "2024-11-16T09:41:36.718427Z",
          "iopub.execute_input": "2024-11-16T09:41:36.719424Z",
          "iopub.status.idle": "2024-11-16T09:41:36.7441Z",
          "shell.execute_reply.started": "2024-11-16T09:41:36.719373Z",
          "shell.execute_reply": "2024-11-16T09:41:36.742689Z"
        },
        "id": "S8hUyRA1YE1s",
        "outputId": "8d3d217f-e8b4-4784-8609-f225ccffdae2"
      },
      "outputs": [
        {
          "name": "stdout",
          "text": "1.0\nAccuracy: 1.0000\n1.0\n1.0\n1.0\n1.0\n",
          "output_type": "stream"
        }
      ],
      "execution_count": null
    },
    {
      "cell_type": "code",
      "source": [
        "print(r2_score(y_val, y_pred2))\n",
        "print(accuracy_score(y_val, y_pred2))\n",
        "print(precision_score(y_val, y_pred2))\n",
        "print(recall_score(y_val, y_pred2, average='binary', zero_division=1))\n",
        "print(f1_score(y_val, y_pred2, zero_division=1.0))\n",
        "print(roc_auc_score(y, model2.predict_proba(X)[:, 1]))"
      ],
      "metadata": {
        "trusted": true,
        "execution": {
          "iopub.status.busy": "2024-11-16T09:38:08.888093Z",
          "iopub.execute_input": "2024-11-16T09:38:08.888648Z",
          "iopub.status.idle": "2024-11-16T09:38:08.918871Z",
          "shell.execute_reply.started": "2024-11-16T09:38:08.888575Z",
          "shell.execute_reply": "2024-11-16T09:38:08.917285Z"
        },
        "id": "FbL_iV8oYE1t",
        "outputId": "30efde9f-3076-4532-9b38-af7c13fa7c11"
      },
      "outputs": [
        {
          "name": "stdout",
          "text": "1.0\n1.0\n1.0\n1.0\n1.0\n1.0\n",
          "output_type": "stream"
        }
      ],
      "execution_count": null
    },
    {
      "cell_type": "code",
      "source": [
        "print(r2_score(y_val, y_pred3))\n",
        "print(accuracy_score(y_val, y_pred3))\n",
        "print(precision_score(y_val, y_pred3))\n",
        "print(recall_score(y_val, y_pred3, average='binary', zero_division=1))\n",
        "print(f1_score(y_val, y_pred3, zero_division=1.0))\n",
        "print(roc_auc_score(y, model3.predict_proba(X)[:, 1]))"
      ],
      "metadata": {
        "trusted": true,
        "execution": {
          "iopub.status.busy": "2024-11-16T09:38:30.768358Z",
          "iopub.execute_input": "2024-11-16T09:38:30.769454Z",
          "iopub.status.idle": "2024-11-16T09:38:30.802871Z",
          "shell.execute_reply.started": "2024-11-16T09:38:30.76939Z",
          "shell.execute_reply": "2024-11-16T09:38:30.801786Z"
        },
        "id": "wXrMm0xTYE1t",
        "outputId": "6d240ea2-efb9-4b3e-ee84-a3176165b0d7"
      },
      "outputs": [
        {
          "name": "stdout",
          "text": "1.0\n1.0\n1.0\n1.0\n1.0\n1.0\n",
          "output_type": "stream"
        }
      ],
      "execution_count": null
    },
    {
      "cell_type": "code",
      "source": [
        "# Definir los hiperparámetros y sus posibles valores\n",
        "param_grid = {\n",
        "    'C': [0.001, 0.01, 0.1, 1, 10, 100, 1000]\n",
        "}\n",
        "# Inicializar la búsqueda en cuadrícula\n",
        "grid_search = GridSearchCV(RandomForestClassifier(max_depth=2, random_state=0), param_grid, cv=5, scoring='accuracy')\n",
        "# Ajustar el modelo con los datos de entrenamiento\n",
        "grid_search.fit(X_train, y_train)"
      ],
      "metadata": {
        "trusted": true,
        "execution": {
          "iopub.status.busy": "2024-11-16T09:46:17.625216Z",
          "iopub.execute_input": "2024-11-16T09:46:17.625737Z",
          "iopub.status.idle": "2024-11-16T09:46:17.848689Z",
          "shell.execute_reply.started": "2024-11-16T09:46:17.62569Z",
          "shell.execute_reply": "2024-11-16T09:46:17.846653Z"
        },
        "id": "68x_kJhKYE1t",
        "outputId": "a163ec05-7bda-465d-8003-c0b2ab8e6c26"
      },
      "outputs": [
        {
          "traceback": [
            "\u001b[0;31m---------------------------------------------------------------------------\u001b[0m",
            "\u001b[0;31mValueError\u001b[0m                                Traceback (most recent call last)",
            "Cell \u001b[0;32mIn[101], line 8\u001b[0m\n\u001b[1;32m      6\u001b[0m grid_search \u001b[38;5;241m=\u001b[39m GridSearchCV(RandomForestClassifier(max_depth\u001b[38;5;241m=\u001b[39m\u001b[38;5;241m2\u001b[39m, random_state\u001b[38;5;241m=\u001b[39m\u001b[38;5;241m0\u001b[39m), param_grid, cv\u001b[38;5;241m=\u001b[39m\u001b[38;5;241m5\u001b[39m, scoring\u001b[38;5;241m=\u001b[39m\u001b[38;5;124m'\u001b[39m\u001b[38;5;124maccuracy\u001b[39m\u001b[38;5;124m'\u001b[39m)\n\u001b[1;32m      7\u001b[0m \u001b[38;5;66;03m# Ajustar el modelo con los datos de entrenamiento\u001b[39;00m\n\u001b[0;32m----> 8\u001b[0m \u001b[43mgrid_search\u001b[49m\u001b[38;5;241;43m.\u001b[39;49m\u001b[43mfit\u001b[49m\u001b[43m(\u001b[49m\u001b[43mX_train\u001b[49m\u001b[43m,\u001b[49m\u001b[43m \u001b[49m\u001b[43my_train\u001b[49m\u001b[43m)\u001b[49m\n",
            "File \u001b[0;32m/opt/conda/lib/python3.10/site-packages/sklearn/model_selection/_search.py:874\u001b[0m, in \u001b[0;36mBaseSearchCV.fit\u001b[0;34m(self, X, y, groups, **fit_params)\u001b[0m\n\u001b[1;32m    868\u001b[0m     results \u001b[38;5;241m=\u001b[39m \u001b[38;5;28mself\u001b[39m\u001b[38;5;241m.\u001b[39m_format_results(\n\u001b[1;32m    869\u001b[0m         all_candidate_params, n_splits, all_out, all_more_results\n\u001b[1;32m    870\u001b[0m     )\n\u001b[1;32m    872\u001b[0m     \u001b[38;5;28;01mreturn\u001b[39;00m results\n\u001b[0;32m--> 874\u001b[0m \u001b[38;5;28;43mself\u001b[39;49m\u001b[38;5;241;43m.\u001b[39;49m\u001b[43m_run_search\u001b[49m\u001b[43m(\u001b[49m\u001b[43mevaluate_candidates\u001b[49m\u001b[43m)\u001b[49m\n\u001b[1;32m    876\u001b[0m \u001b[38;5;66;03m# multimetric is determined here because in the case of a callable\u001b[39;00m\n\u001b[1;32m    877\u001b[0m \u001b[38;5;66;03m# self.scoring the return type is only known after calling\u001b[39;00m\n\u001b[1;32m    878\u001b[0m first_test_score \u001b[38;5;241m=\u001b[39m all_out[\u001b[38;5;241m0\u001b[39m][\u001b[38;5;124m\"\u001b[39m\u001b[38;5;124mtest_scores\u001b[39m\u001b[38;5;124m\"\u001b[39m]\n",
            "File \u001b[0;32m/opt/conda/lib/python3.10/site-packages/sklearn/model_selection/_search.py:1388\u001b[0m, in \u001b[0;36mGridSearchCV._run_search\u001b[0;34m(self, evaluate_candidates)\u001b[0m\n\u001b[1;32m   1386\u001b[0m \u001b[38;5;28;01mdef\u001b[39;00m \u001b[38;5;21m_run_search\u001b[39m(\u001b[38;5;28mself\u001b[39m, evaluate_candidates):\n\u001b[1;32m   1387\u001b[0m \u001b[38;5;250m    \u001b[39m\u001b[38;5;124;03m\"\"\"Search all candidates in param_grid\"\"\"\u001b[39;00m\n\u001b[0;32m-> 1388\u001b[0m     \u001b[43mevaluate_candidates\u001b[49m\u001b[43m(\u001b[49m\u001b[43mParameterGrid\u001b[49m\u001b[43m(\u001b[49m\u001b[38;5;28;43mself\u001b[39;49m\u001b[38;5;241;43m.\u001b[39;49m\u001b[43mparam_grid\u001b[49m\u001b[43m)\u001b[49m\u001b[43m)\u001b[49m\n",
            "File \u001b[0;32m/opt/conda/lib/python3.10/site-packages/sklearn/model_selection/_search.py:821\u001b[0m, in \u001b[0;36mBaseSearchCV.fit.<locals>.evaluate_candidates\u001b[0;34m(candidate_params, cv, more_results)\u001b[0m\n\u001b[1;32m    813\u001b[0m \u001b[38;5;28;01mif\u001b[39;00m \u001b[38;5;28mself\u001b[39m\u001b[38;5;241m.\u001b[39mverbose \u001b[38;5;241m>\u001b[39m \u001b[38;5;241m0\u001b[39m:\n\u001b[1;32m    814\u001b[0m     \u001b[38;5;28mprint\u001b[39m(\n\u001b[1;32m    815\u001b[0m         \u001b[38;5;124m\"\u001b[39m\u001b[38;5;124mFitting \u001b[39m\u001b[38;5;132;01m{0}\u001b[39;00m\u001b[38;5;124m folds for each of \u001b[39m\u001b[38;5;132;01m{1}\u001b[39;00m\u001b[38;5;124m candidates,\u001b[39m\u001b[38;5;124m\"\u001b[39m\n\u001b[1;32m    816\u001b[0m         \u001b[38;5;124m\"\u001b[39m\u001b[38;5;124m totalling \u001b[39m\u001b[38;5;132;01m{2}\u001b[39;00m\u001b[38;5;124m fits\u001b[39m\u001b[38;5;124m\"\u001b[39m\u001b[38;5;241m.\u001b[39mformat(\n\u001b[1;32m    817\u001b[0m             n_splits, n_candidates, n_candidates \u001b[38;5;241m*\u001b[39m n_splits\n\u001b[1;32m    818\u001b[0m         )\n\u001b[1;32m    819\u001b[0m     )\n\u001b[0;32m--> 821\u001b[0m out \u001b[38;5;241m=\u001b[39m \u001b[43mparallel\u001b[49m\u001b[43m(\u001b[49m\n\u001b[1;32m    822\u001b[0m \u001b[43m    \u001b[49m\u001b[43mdelayed\u001b[49m\u001b[43m(\u001b[49m\u001b[43m_fit_and_score\u001b[49m\u001b[43m)\u001b[49m\u001b[43m(\u001b[49m\n\u001b[1;32m    823\u001b[0m \u001b[43m        \u001b[49m\u001b[43mclone\u001b[49m\u001b[43m(\u001b[49m\u001b[43mbase_estimator\u001b[49m\u001b[43m)\u001b[49m\u001b[43m,\u001b[49m\n\u001b[1;32m    824\u001b[0m \u001b[43m        \u001b[49m\u001b[43mX\u001b[49m\u001b[43m,\u001b[49m\n\u001b[1;32m    825\u001b[0m \u001b[43m        \u001b[49m\u001b[43my\u001b[49m\u001b[43m,\u001b[49m\n\u001b[1;32m    826\u001b[0m \u001b[43m        \u001b[49m\u001b[43mtrain\u001b[49m\u001b[38;5;241;43m=\u001b[39;49m\u001b[43mtrain\u001b[49m\u001b[43m,\u001b[49m\n\u001b[1;32m    827\u001b[0m \u001b[43m        \u001b[49m\u001b[43mtest\u001b[49m\u001b[38;5;241;43m=\u001b[39;49m\u001b[43mtest\u001b[49m\u001b[43m,\u001b[49m\n\u001b[1;32m    828\u001b[0m \u001b[43m        \u001b[49m\u001b[43mparameters\u001b[49m\u001b[38;5;241;43m=\u001b[39;49m\u001b[43mparameters\u001b[49m\u001b[43m,\u001b[49m\n\u001b[1;32m    829\u001b[0m \u001b[43m        \u001b[49m\u001b[43msplit_progress\u001b[49m\u001b[38;5;241;43m=\u001b[39;49m\u001b[43m(\u001b[49m\u001b[43msplit_idx\u001b[49m\u001b[43m,\u001b[49m\u001b[43m \u001b[49m\u001b[43mn_splits\u001b[49m\u001b[43m)\u001b[49m\u001b[43m,\u001b[49m\n\u001b[1;32m    830\u001b[0m \u001b[43m        \u001b[49m\u001b[43mcandidate_progress\u001b[49m\u001b[38;5;241;43m=\u001b[39;49m\u001b[43m(\u001b[49m\u001b[43mcand_idx\u001b[49m\u001b[43m,\u001b[49m\u001b[43m \u001b[49m\u001b[43mn_candidates\u001b[49m\u001b[43m)\u001b[49m\u001b[43m,\u001b[49m\n\u001b[1;32m    831\u001b[0m \u001b[43m        \u001b[49m\u001b[38;5;241;43m*\u001b[39;49m\u001b[38;5;241;43m*\u001b[39;49m\u001b[43mfit_and_score_kwargs\u001b[49m\u001b[43m,\u001b[49m\n\u001b[1;32m    832\u001b[0m \u001b[43m    \u001b[49m\u001b[43m)\u001b[49m\n\u001b[1;32m    833\u001b[0m \u001b[43m    \u001b[49m\u001b[38;5;28;43;01mfor\u001b[39;49;00m\u001b[43m \u001b[49m\u001b[43m(\u001b[49m\u001b[43mcand_idx\u001b[49m\u001b[43m,\u001b[49m\u001b[43m \u001b[49m\u001b[43mparameters\u001b[49m\u001b[43m)\u001b[49m\u001b[43m,\u001b[49m\u001b[43m \u001b[49m\u001b[43m(\u001b[49m\u001b[43msplit_idx\u001b[49m\u001b[43m,\u001b[49m\u001b[43m \u001b[49m\u001b[43m(\u001b[49m\u001b[43mtrain\u001b[49m\u001b[43m,\u001b[49m\u001b[43m \u001b[49m\u001b[43mtest\u001b[49m\u001b[43m)\u001b[49m\u001b[43m)\u001b[49m\u001b[43m \u001b[49m\u001b[38;5;129;43;01min\u001b[39;49;00m\u001b[43m \u001b[49m\u001b[43mproduct\u001b[49m\u001b[43m(\u001b[49m\n\u001b[1;32m    834\u001b[0m \u001b[43m        \u001b[49m\u001b[38;5;28;43menumerate\u001b[39;49m\u001b[43m(\u001b[49m\u001b[43mcandidate_params\u001b[49m\u001b[43m)\u001b[49m\u001b[43m,\u001b[49m\u001b[43m \u001b[49m\u001b[38;5;28;43menumerate\u001b[39;49m\u001b[43m(\u001b[49m\u001b[43mcv\u001b[49m\u001b[38;5;241;43m.\u001b[39;49m\u001b[43msplit\u001b[49m\u001b[43m(\u001b[49m\u001b[43mX\u001b[49m\u001b[43m,\u001b[49m\u001b[43m \u001b[49m\u001b[43my\u001b[49m\u001b[43m,\u001b[49m\u001b[43m \u001b[49m\u001b[43mgroups\u001b[49m\u001b[43m)\u001b[49m\u001b[43m)\u001b[49m\n\u001b[1;32m    835\u001b[0m \u001b[43m    \u001b[49m\u001b[43m)\u001b[49m\n\u001b[1;32m    836\u001b[0m \u001b[43m\u001b[49m\u001b[43m)\u001b[49m\n\u001b[1;32m    838\u001b[0m \u001b[38;5;28;01mif\u001b[39;00m \u001b[38;5;28mlen\u001b[39m(out) \u001b[38;5;241m<\u001b[39m \u001b[38;5;241m1\u001b[39m:\n\u001b[1;32m    839\u001b[0m     \u001b[38;5;28;01mraise\u001b[39;00m \u001b[38;5;167;01mValueError\u001b[39;00m(\n\u001b[1;32m    840\u001b[0m         \u001b[38;5;124m\"\u001b[39m\u001b[38;5;124mNo fits were performed. \u001b[39m\u001b[38;5;124m\"\u001b[39m\n\u001b[1;32m    841\u001b[0m         \u001b[38;5;124m\"\u001b[39m\u001b[38;5;124mWas the CV iterator empty? \u001b[39m\u001b[38;5;124m\"\u001b[39m\n\u001b[1;32m    842\u001b[0m         \u001b[38;5;124m\"\u001b[39m\u001b[38;5;124mWere there no candidates?\u001b[39m\u001b[38;5;124m\"\u001b[39m\n\u001b[1;32m    843\u001b[0m     )\n",
            "File \u001b[0;32m/opt/conda/lib/python3.10/site-packages/sklearn/utils/parallel.py:63\u001b[0m, in \u001b[0;36mParallel.__call__\u001b[0;34m(self, iterable)\u001b[0m\n\u001b[1;32m     58\u001b[0m config \u001b[38;5;241m=\u001b[39m get_config()\n\u001b[1;32m     59\u001b[0m iterable_with_config \u001b[38;5;241m=\u001b[39m (\n\u001b[1;32m     60\u001b[0m     (_with_config(delayed_func, config), args, kwargs)\n\u001b[1;32m     61\u001b[0m     \u001b[38;5;28;01mfor\u001b[39;00m delayed_func, args, kwargs \u001b[38;5;129;01min\u001b[39;00m iterable\n\u001b[1;32m     62\u001b[0m )\n\u001b[0;32m---> 63\u001b[0m \u001b[38;5;28;01mreturn\u001b[39;00m \u001b[38;5;28;43msuper\u001b[39;49m\u001b[43m(\u001b[49m\u001b[43m)\u001b[49m\u001b[38;5;241;43m.\u001b[39;49m\u001b[38;5;21;43m__call__\u001b[39;49m\u001b[43m(\u001b[49m\u001b[43miterable_with_config\u001b[49m\u001b[43m)\u001b[49m\n",
            "File \u001b[0;32m/opt/conda/lib/python3.10/site-packages/joblib/parallel.py:1918\u001b[0m, in \u001b[0;36mParallel.__call__\u001b[0;34m(self, iterable)\u001b[0m\n\u001b[1;32m   1916\u001b[0m     output \u001b[38;5;241m=\u001b[39m \u001b[38;5;28mself\u001b[39m\u001b[38;5;241m.\u001b[39m_get_sequential_output(iterable)\n\u001b[1;32m   1917\u001b[0m     \u001b[38;5;28mnext\u001b[39m(output)\n\u001b[0;32m-> 1918\u001b[0m     \u001b[38;5;28;01mreturn\u001b[39;00m output \u001b[38;5;28;01mif\u001b[39;00m \u001b[38;5;28mself\u001b[39m\u001b[38;5;241m.\u001b[39mreturn_generator \u001b[38;5;28;01melse\u001b[39;00m \u001b[38;5;28;43mlist\u001b[39;49m\u001b[43m(\u001b[49m\u001b[43moutput\u001b[49m\u001b[43m)\u001b[49m\n\u001b[1;32m   1920\u001b[0m \u001b[38;5;66;03m# Let's create an ID that uniquely identifies the current call. If the\u001b[39;00m\n\u001b[1;32m   1921\u001b[0m \u001b[38;5;66;03m# call is interrupted early and that the same instance is immediately\u001b[39;00m\n\u001b[1;32m   1922\u001b[0m \u001b[38;5;66;03m# re-used, this id will be used to prevent workers that were\u001b[39;00m\n\u001b[1;32m   1923\u001b[0m \u001b[38;5;66;03m# concurrently finalizing a task from the previous call to run the\u001b[39;00m\n\u001b[1;32m   1924\u001b[0m \u001b[38;5;66;03m# callback.\u001b[39;00m\n\u001b[1;32m   1925\u001b[0m \u001b[38;5;28;01mwith\u001b[39;00m \u001b[38;5;28mself\u001b[39m\u001b[38;5;241m.\u001b[39m_lock:\n",
            "File \u001b[0;32m/opt/conda/lib/python3.10/site-packages/joblib/parallel.py:1847\u001b[0m, in \u001b[0;36mParallel._get_sequential_output\u001b[0;34m(self, iterable)\u001b[0m\n\u001b[1;32m   1845\u001b[0m \u001b[38;5;28mself\u001b[39m\u001b[38;5;241m.\u001b[39mn_dispatched_batches \u001b[38;5;241m+\u001b[39m\u001b[38;5;241m=\u001b[39m \u001b[38;5;241m1\u001b[39m\n\u001b[1;32m   1846\u001b[0m \u001b[38;5;28mself\u001b[39m\u001b[38;5;241m.\u001b[39mn_dispatched_tasks \u001b[38;5;241m+\u001b[39m\u001b[38;5;241m=\u001b[39m \u001b[38;5;241m1\u001b[39m\n\u001b[0;32m-> 1847\u001b[0m res \u001b[38;5;241m=\u001b[39m \u001b[43mfunc\u001b[49m\u001b[43m(\u001b[49m\u001b[38;5;241;43m*\u001b[39;49m\u001b[43margs\u001b[49m\u001b[43m,\u001b[49m\u001b[43m \u001b[49m\u001b[38;5;241;43m*\u001b[39;49m\u001b[38;5;241;43m*\u001b[39;49m\u001b[43mkwargs\u001b[49m\u001b[43m)\u001b[49m\n\u001b[1;32m   1848\u001b[0m \u001b[38;5;28mself\u001b[39m\u001b[38;5;241m.\u001b[39mn_completed_tasks \u001b[38;5;241m+\u001b[39m\u001b[38;5;241m=\u001b[39m \u001b[38;5;241m1\u001b[39m\n\u001b[1;32m   1849\u001b[0m \u001b[38;5;28mself\u001b[39m\u001b[38;5;241m.\u001b[39mprint_progress()\n",
            "File \u001b[0;32m/opt/conda/lib/python3.10/site-packages/sklearn/utils/parallel.py:123\u001b[0m, in \u001b[0;36m_FuncWrapper.__call__\u001b[0;34m(self, *args, **kwargs)\u001b[0m\n\u001b[1;32m    121\u001b[0m     config \u001b[38;5;241m=\u001b[39m {}\n\u001b[1;32m    122\u001b[0m \u001b[38;5;28;01mwith\u001b[39;00m config_context(\u001b[38;5;241m*\u001b[39m\u001b[38;5;241m*\u001b[39mconfig):\n\u001b[0;32m--> 123\u001b[0m     \u001b[38;5;28;01mreturn\u001b[39;00m \u001b[38;5;28;43mself\u001b[39;49m\u001b[38;5;241;43m.\u001b[39;49m\u001b[43mfunction\u001b[49m\u001b[43m(\u001b[49m\u001b[38;5;241;43m*\u001b[39;49m\u001b[43margs\u001b[49m\u001b[43m,\u001b[49m\u001b[43m \u001b[49m\u001b[38;5;241;43m*\u001b[39;49m\u001b[38;5;241;43m*\u001b[39;49m\u001b[43mkwargs\u001b[49m\u001b[43m)\u001b[49m\n",
            "File \u001b[0;32m/opt/conda/lib/python3.10/site-packages/sklearn/model_selection/_validation.py:674\u001b[0m, in \u001b[0;36m_fit_and_score\u001b[0;34m(estimator, X, y, scorer, train, test, verbose, parameters, fit_params, return_train_score, return_parameters, return_n_test_samples, return_times, return_estimator, split_progress, candidate_progress, error_score)\u001b[0m\n\u001b[1;32m    671\u001b[0m     \u001b[38;5;28;01mfor\u001b[39;00m k, v \u001b[38;5;129;01min\u001b[39;00m parameters\u001b[38;5;241m.\u001b[39mitems():\n\u001b[1;32m    672\u001b[0m         cloned_parameters[k] \u001b[38;5;241m=\u001b[39m clone(v, safe\u001b[38;5;241m=\u001b[39m\u001b[38;5;28;01mFalse\u001b[39;00m)\n\u001b[0;32m--> 674\u001b[0m     estimator \u001b[38;5;241m=\u001b[39m \u001b[43mestimator\u001b[49m\u001b[38;5;241;43m.\u001b[39;49m\u001b[43mset_params\u001b[49m\u001b[43m(\u001b[49m\u001b[38;5;241;43m*\u001b[39;49m\u001b[38;5;241;43m*\u001b[39;49m\u001b[43mcloned_parameters\u001b[49m\u001b[43m)\u001b[49m\n\u001b[1;32m    676\u001b[0m start_time \u001b[38;5;241m=\u001b[39m time\u001b[38;5;241m.\u001b[39mtime()\n\u001b[1;32m    678\u001b[0m X_train, y_train \u001b[38;5;241m=\u001b[39m _safe_split(estimator, X, y, train)\n",
            "File \u001b[0;32m/opt/conda/lib/python3.10/site-packages/sklearn/base.py:205\u001b[0m, in \u001b[0;36mBaseEstimator.set_params\u001b[0;34m(self, **params)\u001b[0m\n\u001b[1;32m    203\u001b[0m \u001b[38;5;28;01mif\u001b[39;00m key \u001b[38;5;129;01mnot\u001b[39;00m \u001b[38;5;129;01min\u001b[39;00m valid_params:\n\u001b[1;32m    204\u001b[0m     local_valid_params \u001b[38;5;241m=\u001b[39m \u001b[38;5;28mself\u001b[39m\u001b[38;5;241m.\u001b[39m_get_param_names()\n\u001b[0;32m--> 205\u001b[0m     \u001b[38;5;28;01mraise\u001b[39;00m \u001b[38;5;167;01mValueError\u001b[39;00m(\n\u001b[1;32m    206\u001b[0m         \u001b[38;5;124mf\u001b[39m\u001b[38;5;124m\"\u001b[39m\u001b[38;5;124mInvalid parameter \u001b[39m\u001b[38;5;132;01m{\u001b[39;00mkey\u001b[38;5;132;01m!r}\u001b[39;00m\u001b[38;5;124m for estimator \u001b[39m\u001b[38;5;132;01m{\u001b[39;00m\u001b[38;5;28mself\u001b[39m\u001b[38;5;132;01m}\u001b[39;00m\u001b[38;5;124m. \u001b[39m\u001b[38;5;124m\"\u001b[39m\n\u001b[1;32m    207\u001b[0m         \u001b[38;5;124mf\u001b[39m\u001b[38;5;124m\"\u001b[39m\u001b[38;5;124mValid parameters are: \u001b[39m\u001b[38;5;132;01m{\u001b[39;00mlocal_valid_params\u001b[38;5;132;01m!r}\u001b[39;00m\u001b[38;5;124m.\u001b[39m\u001b[38;5;124m\"\u001b[39m\n\u001b[1;32m    208\u001b[0m     )\n\u001b[1;32m    210\u001b[0m \u001b[38;5;28;01mif\u001b[39;00m delim:\n\u001b[1;32m    211\u001b[0m     nested_params[key][sub_key] \u001b[38;5;241m=\u001b[39m value\n",
            "\u001b[0;31mValueError\u001b[0m: Invalid parameter 'C' for estimator RandomForestClassifier(max_depth=2, random_state=0). Valid parameters are: ['bootstrap', 'ccp_alpha', 'class_weight', 'criterion', 'max_depth', 'max_features', 'max_leaf_nodes', 'max_samples', 'min_impurity_decrease', 'min_samples_leaf', 'min_samples_split', 'min_weight_fraction_leaf', 'n_estimators', 'n_jobs', 'oob_score', 'random_state', 'verbose', 'warm_start']."
          ],
          "ename": "ValueError",
          "evalue": "Invalid parameter 'C' for estimator RandomForestClassifier(max_depth=2, random_state=0). Valid parameters are: ['bootstrap', 'ccp_alpha', 'class_weight', 'criterion', 'max_depth', 'max_features', 'max_leaf_nodes', 'max_samples', 'min_impurity_decrease', 'min_samples_leaf', 'min_samples_split', 'min_weight_fraction_leaf', 'n_estimators', 'n_jobs', 'oob_score', 'random_state', 'verbose', 'warm_start'].",
          "output_type": "error"
        }
      ],
      "execution_count": null
    },
    {
      "cell_type": "code",
      "source": [
        "# Ver los mejores hiperparámetros\n",
        "print(\"Mejores hiperparámetros:\", grid_search.best_params_)"
      ],
      "metadata": {
        "trusted": true,
        "execution": {
          "iopub.status.busy": "2024-11-16T09:44:27.452433Z",
          "iopub.execute_input": "2024-11-16T09:44:27.452977Z",
          "iopub.status.idle": "2024-11-16T09:44:27.459104Z",
          "shell.execute_reply.started": "2024-11-16T09:44:27.452932Z",
          "shell.execute_reply": "2024-11-16T09:44:27.457963Z"
        },
        "id": "oxSjMvy5YE1t",
        "outputId": "4bc32d02-2008-41dc-dc6f-e5f124aa28bc"
      },
      "outputs": [
        {
          "name": "stdout",
          "text": "Mejores hiperparámetros: {'C': 0.01}\n",
          "output_type": "stream"
        }
      ],
      "execution_count": null
    },
    {
      "cell_type": "code",
      "source": [
        "best_model = grid_search.best_estimator_\n",
        "y_pred = best_model.predict(X_val)\n",
        "accuracy = accuracy_score(y_val, y_pred)\n",
        "print(f\"Accuracy con los mejores hiperparámetros: {accuracy:.4f}\")"
      ],
      "metadata": {
        "trusted": true,
        "execution": {
          "iopub.status.busy": "2024-11-16T09:44:31.736112Z",
          "iopub.execute_input": "2024-11-16T09:44:31.73654Z",
          "iopub.status.idle": "2024-11-16T09:44:31.749031Z",
          "shell.execute_reply.started": "2024-11-16T09:44:31.7365Z",
          "shell.execute_reply": "2024-11-16T09:44:31.747555Z"
        },
        "id": "gQIJy-3BYE1t",
        "outputId": "33d6b9e7-8e7b-40a1-c401-2c9207a840f3"
      },
      "outputs": [
        {
          "name": "stdout",
          "text": "Accuracy con los mejores hiperparámetros: 1.0000\n",
          "output_type": "stream"
        }
      ],
      "execution_count": null
    }
  ]
}