{
  "nbformat": 4,
  "nbformat_minor": 0,
  "metadata": {
    "colab": {
      "provenance": [],
      "authorship_tag": "ABX9TyNhw8Xp2Nu20m02/9Q7knNa",
      "include_colab_link": true
    },
    "kernelspec": {
      "name": "python3",
      "display_name": "Python 3"
    },
    "language_info": {
      "name": "python"
    }
  },
  "cells": [
    {
      "cell_type": "markdown",
      "metadata": {
        "id": "view-in-github",
        "colab_type": "text"
      },
      "source": [
        "<a href=\"https://colab.research.google.com/github/hectorvh/Learning/blob/main/Modulo2_Proyecto.ipynb\" target=\"_parent\"><img src=\"https://colab.research.google.com/assets/colab-badge.svg\" alt=\"Open In Colab\"/></a>"
      ]
    },
    {
      "cell_type": "code",
      "execution_count": 4,
      "metadata": {
        "colab": {
          "base_uri": "https://localhost:8080/"
        },
        "id": "vjEEkeC8NlZ4",
        "outputId": "52a86a79-7063-4004-ca47-704532278408"
      },
      "outputs": [
        {
          "output_type": "stream",
          "name": "stdout",
          "text": [
            "Encontrado\n"
          ]
        }
      ],
      "source": [
        "entrada = [1, 3, 5, 7, 9, 11]\n",
        "objetivo = 11\n",
        "\n",
        "size=len(entrada)\n",
        "encontrado = False\n",
        "for i in range(size):\n",
        "    if entrada[i] == objetivo:\n",
        "        encontrado = True\n",
        "        break\n",
        "if encontrado:\n",
        "    print(\"Encontrado\")\n",
        "else:\n",
        "    print(\"No encontrado\")"
      ]
    },
    {
      "cell_type": "code",
      "source": [
        "entrada2 = [20, 10, 40, 30, 50]\n",
        "\n",
        "size2 = len(entrada2)\n",
        "for j in range(size2-1):\n",
        "  for i in range(size2-1-j):\n",
        "    if entrada2[i] > entrada2[i+1]:\n",
        "      entrada2_temp = entrada2[i]\n",
        "      entrada2[i] = entrada2[i+1]\n",
        "      entrada2[i+1] = entrada2_temp\n",
        "print(entrada2)"
      ],
      "metadata": {
        "colab": {
          "base_uri": "https://localhost:8080/"
        },
        "id": "9HNeo-zIoGi6",
        "outputId": "f90e3786-6830-4278-e0cd-cfdff5be79c1"
      },
      "execution_count": 33,
      "outputs": [
        {
          "output_type": "stream",
          "name": "stdout",
          "text": [
            "[10, 20, 30, 40, 50]\n"
          ]
        }
      ]
    },
    {
      "cell_type": "code",
      "source": [
        "n = 20\n",
        "\n",
        "A = 0\n",
        "B = 1\n",
        "for i in range(n-1):\n",
        "  B = A + B\n",
        "  A = B - A\n",
        "print(B)\n"
      ],
      "metadata": {
        "colab": {
          "base_uri": "https://localhost:8080/"
        },
        "id": "42BfQFUAumrh",
        "outputId": "fe3c4d2d-7285-40a2-b1e8-481fab2a2c60"
      },
      "execution_count": 45,
      "outputs": [
        {
          "output_type": "stream",
          "name": "stdout",
          "text": [
            "6765\n"
          ]
        }
      ]
    },
    {
      "cell_type": "code",
      "source": [
        "entrada4 = [7, 10, 4, 3, 20, 15]\n",
        "k = 4\n",
        "\n",
        "size4=len(entrada)\n",
        "for j in range(size4-1):\n",
        "  for i in range(size4-1-j):\n",
        "    if entrada4[i] > entrada4[i+1]:\n",
        "      entrada4_temp = entrada4[i]\n",
        "      entrada4[i] = entrada4[i+1]\n",
        "      entrada4[i+1] = entrada4_temp\n",
        "print(entrada4[k-1])"
      ],
      "metadata": {
        "colab": {
          "base_uri": "https://localhost:8080/"
        },
        "id": "Pc5XXibFyoLn",
        "outputId": "452307f0-0bec-496a-d709-eb8d7e81d9cd"
      },
      "execution_count": 48,
      "outputs": [
        {
          "output_type": "stream",
          "name": "stdout",
          "text": [
            "10\n"
          ]
        }
      ]
    },
    {
      "cell_type": "code",
      "source": [
        "entrada5 = [9, 7, 5, 3]\n",
        "\n",
        "size5=len(entrada5)\n",
        "ascendente = True\n",
        "descendente = True\n",
        "for i in range(size5-1):\n",
        "  if entrada5[i] > entrada5[i+1]:\n",
        "    descendente = descendente and (not ascendente or i==0)\n",
        "    ascendente = False\n",
        "  elif entrada5[i] < entrada5[i+1]:\n",
        "    ascendente = ascendente and (not descendente or i==0)\n",
        "    descendente = False\n",
        "  elif entrada5[i] == entrada5[i+1]:\n",
        "    ascendente = True and ascendente\n",
        "    descendente = True and descendente\n",
        "\n",
        "if ascendente:\n",
        "  print(\"Orden ascendente\")\n",
        "if descendente and not ascendente:\n",
        "  print(\"Orden descendente\")\n",
        "if not descendente and not ascendente:\n",
        "  print(\"No está ordenado\")"
      ],
      "metadata": {
        "colab": {
          "base_uri": "https://localhost:8080/"
        },
        "id": "2tI0xLb7zfl6",
        "outputId": "2cdb2551-4c5a-4768-d2ea-014749437d2a"
      },
      "execution_count": 76,
      "outputs": [
        {
          "output_type": "stream",
          "name": "stdout",
          "text": [
            "Orden descendente\n"
          ]
        }
      ]
    }
  ]
}